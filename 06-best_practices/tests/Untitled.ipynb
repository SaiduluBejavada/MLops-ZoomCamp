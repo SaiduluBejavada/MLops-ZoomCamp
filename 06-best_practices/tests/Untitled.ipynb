{
 "cells": [
  {
   "cell_type": "code",
   "execution_count": 1,
   "id": "384e9731-1672-4fb1-a396-b28a6048ae1b",
   "metadata": {},
   "outputs": [
    {
     "name": "stdout",
     "output_type": "stream",
     "text": [
      "Untitled.ipynb  __init__.py  \u001b[0m\u001b[34;42m__pycache__\u001b[0m/  test_batch.py  untitled.py\n"
     ]
    }
   ],
   "source": [
    "ls"
   ]
  },
  {
   "cell_type": "code",
   "execution_count": 2,
   "id": "29814832-7977-4f83-896d-b711543b3913",
   "metadata": {},
   "outputs": [
    {
     "name": "stdout",
     "output_type": "stream",
     "text": [
      "Processed Dataframe:\n",
      "   PULocationID  DOLocationID  ... tpep_dropoff_datetime duration\n",
      "0             1             1  ...   2023-01-01 01:10:00      8.0\n",
      "\n",
      "[1 rows x 5 columns]\n",
      "\n",
      "Expected Dataframe:\n",
      "   PULocationID  DOLocationID  ... tpep_dropoff_datetime duration\n",
      "0             1             1  ...   2023-01-01 01:10:00      8.0\n",
      "\n",
      "[1 rows x 5 columns]\n"
     ]
    }
   ],
   "source": [
    "!python test_batch.py"
   ]
  },
  {
   "cell_type": "code",
   "execution_count": null,
   "id": "8fa122a6-491a-4911-b681-63bd99fcae0b",
   "metadata": {},
   "outputs": [],
   "source": []
  }
 ],
 "metadata": {
  "kernelspec": {
   "display_name": "Python 3 (ipykernel)",
   "language": "python",
   "name": "python3"
  },
  "language_info": {
   "codemirror_mode": {
    "name": "ipython",
    "version": 3
   },
   "file_extension": ".py",
   "mimetype": "text/x-python",
   "name": "python",
   "nbconvert_exporter": "python",
   "pygments_lexer": "ipython3",
   "version": "3.10.13"
  }
 },
 "nbformat": 4,
 "nbformat_minor": 5
}
