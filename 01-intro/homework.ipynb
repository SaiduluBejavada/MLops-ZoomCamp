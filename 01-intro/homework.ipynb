{
 "cells": [
  {
   "cell_type": "code",
   "execution_count": null,
   "id": "e5b7343d",
   "metadata": {},
   "outputs": [],
   "source": [
    "#importing all the required libraries\n",
    "import pandas as pd\n",
    "import numpy as np\n",
    "from sklearn.linear_model import LinearRegression\n",
    "import sklearn.metrics\n",
    "import math"
   ]
  },
  {
   "cell_type": "code",
   "execution_count": null,
   "id": "019cf442",
   "metadata": {},
   "outputs": [],
   "source": [
    "#. Downloading the data\n",
    "#Read the data for January. How many columns are there\n",
    "\n",
    "df_jan = pd.read_parquet('https://d37ci6vzurychx.cloudfront.net/trip-data/yellow_tripdata_2023-01.parquet')\n",
    "df_feb = pd.read_parquet('https://d37ci6vzurychx.cloudfront.net/trip-data/yellow_tripdata_2023-02.parquet')\n",
    "\n",
    "df_jan.shape"
   ]
  },
  {
   "cell_type": "code",
   "execution_count": null,
   "id": "d2ad531d",
   "metadata": {},
   "outputs": [],
   "source": [
    "df_jan.head()"
   ]
  },
  {
   "cell_type": "code",
   "execution_count": null,
   "id": "817e5656",
   "metadata": {},
   "outputs": [],
   "source": [
    "#Computing duration\n",
    "#Now let's compute the duration variable. It should contain the duration of a ride in minutes.\n",
    "#What's the standard deviation of the trips duration in January?\n",
    "\n",
    "df_jan['duration'] = df_jan['tpep_dropoff_datetime'] - df_jan['tpep_pickup_datetime']\n",
    "df_jan.duration = df_jan.duration.apply(lambda td: td.total_seconds() / 60)\n",
    "print(np.std(df_jan.duration))"
   ]
  },
  {
   "cell_type": "code",
   "execution_count": null,
   "id": "c588b492",
   "metadata": {},
   "outputs": [],
   "source": [
    "3009173 / 3066766 * 100"
   ]
  },
  {
   "cell_type": "code",
   "execution_count": null,
   "id": "9942d83e",
   "metadata": {},
   "outputs": [],
   "source": [
    "#One hot encoder\n",
    "df_encoded = pd.get_dummies(df_jan[['PULocationID', 'DOLocationID']], \n",
    "                            columns = ['PULocationID', 'DOLocationID'], \n",
    "                            dtype=int)"
   ]
  },
  {
   "cell_type": "code",
   "execution_count": null,
   "id": "7adad4eb",
   "metadata": {},
   "outputs": [],
   "source": [
    "df_encoded.head()"
   ]
  },
  {
   "cell_type": "code",
   "execution_count": null,
   "id": "96b1976f",
   "metadata": {},
   "outputs": [],
   "source": [
    "#Training a model\n",
    "#Now let's use the feature matrix from the previous step to train a model.\n",
    "\n",
    "#Train a plain linear regression model with default parameters\n",
    "#Calculate the RMSE of the model on the training data\n",
    "#What's the RMSE on train?\n",
    "\n",
    "x = df_encoded.to_numpy()\n",
    "y = df_jan_no_outliers['duration'].to_numpy()"
   ]
  },
  {
   "cell_type": "code",
   "execution_count": null,
   "id": "e65a6db4",
   "metadata": {},
   "outputs": [],
   "source": [
    "model = LinearRegression().fit(x, y)\n",
    "y_pred = model.predict(x)\n",
    "\n",
    "rmse = math.sqrt(sklearn.metrics.mean_squared_error(y, y_pred))\n",
    "print(rmse)"
   ]
  },
  {
   "cell_type": "code",
   "execution_count": null,
   "id": "ac9cfc1e",
   "metadata": {},
   "outputs": [],
   "source": [
    "# Evaluating the model\n",
    "#Now let's apply this model to the validation dataset (February 2023).\n",
    "#What's the RMSE on validation?\n",
    "\n",
    "# compute duration \n",
    "df_feb['duration'] = df_feb['tpep_dropoff_datetime'] - df_feb['tpep_pickup_datetime']\n",
    "df_feb.duration = df_feb.duration.apply(lambda td: td.total_seconds() / 60)\n",
    "\n",
    "# remove outliers\n",
    "df_feb_no_outliers = df_feb.loc[(df_feb['duration'] >= 1) & (df_feb['duration'] <= 60)]\n",
    "\n",
    "#one hot encoding\n",
    "df_feb_encoded = pd.get_dummies(df_feb_no_outliers[['PULocationID', 'DOLocationID']], \n",
    "                            columns = ['PULocationID', 'DOLocationID'], \n",
    "                            dtype=int)\n",
    "x_feb = df_feb_encoded.to_numpy()\n",
    "y_feb = df_feb_no_outliers['duration'].to_numpy()\n",
    "\n",
    "# train model\n",
    "model = LinearRegression().fit(x_feb, y_feb)\n",
    "\n",
    "# calculate RMSE \n",
    "y_feb_pred = model.predict(x_feb)\n",
    "feb_rmse = math.sqrt(sklearn.metrics.mean_squared_error(y_feb, y_feb_pred))\n",
    "print(feb_rmse)"
   ]
  },
  {
   "cell_type": "code",
   "execution_count": null,
   "id": "4b91b740",
   "metadata": {},
   "outputs": [],
   "source": []
  }
 ],
 "metadata": {
  "kernelspec": {
   "display_name": "Python 3 (ipykernel)",
   "language": "python",
   "name": "python3"
  },
  "language_info": {
   "codemirror_mode": {
    "name": "ipython",
    "version": 3
   },
   "file_extension": ".py",
   "mimetype": "text/x-python",
   "name": "python",
   "nbconvert_exporter": "python",
   "pygments_lexer": "ipython3",
   "version": "3.9.12"
  }
 },
 "nbformat": 4,
 "nbformat_minor": 5
}
